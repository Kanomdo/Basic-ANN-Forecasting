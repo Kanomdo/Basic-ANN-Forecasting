{
 "cells": [
  {
   "cell_type": "code",
   "execution_count": null,
   "metadata": {},
   "outputs": [],
   "source": [
    "import os\n",
    "import numpy as np\n",
    "import pandas as pd"
   ]
  },
  {
   "cell_type": "code",
   "execution_count": null,
   "metadata": {},
   "outputs": [],
   "source": [
    "def test4(df):\n",
    "    temperature_test = (df['Temperature'] >= 5) & (df['Temperature'] <= 60)\n",
    "    humidity_test = (df['RH'] >= 0) & (df['RH'] <= 100)\n",
    "    test4_passed = temperature_test & humidity_test\n",
    "    return test4_passed"
   ]
  },
  {
   "cell_type": "code",
   "execution_count": null,
   "metadata": {},
   "outputs": [],
   "source": [
    "files = os.listdir(\"rawdata\")\n",
    "files.sort()\n",
    "\n",
    "for file in files:\n",
    "    history_file = file.split(\"-\")[0] + file.split(\"-\")[1] + \".CSV\"\n",
    "    df_weatherdata = pd.read_csv(f\"weatherdata/{history_file}\", parse_dates=['valid_time_gmt'], index_col=['valid_time_gmt'])\n",
    "    df_weatherdata = df_weatherdata.loc[:, [\"temp\", \"rh\"]]\n",
    "    df_weatherdata = df_weatherdata.resample(\"30T\", label=\"left\").mean()\n",
    "    df_weatherdata.fillna(method='ffill', inplace=True)\n",
    "\n",
    "    df_weatherindex = pd.DataFrame(df_weatherdata.index, index=df_weatherdata.index)\n",
    "    df_weatherdata[\"date\"] = df_weatherindex[\"valid_time_gmt\"].apply(lambda x: x.strftime(\"%Y-%m-%d\"))\n",
    "    df_weatherdata[\"hr\"] = df_weatherindex[\"valid_time_gmt\"].apply(lambda x: x.strftime(\"%H\"))\n",
    "    df_weatherdata[\"min\"] = df_weatherindex[\"valid_time_gmt\"].apply(lambda x: x.strftime(\"%M\"))\n",
    "\n",
    "    df_rawdata = df_rawdata = pd.read_csv(f\"rawdata/{file}\", header=0, parse_dates=['timestamp'], index_col=0)\n",
    "\n",
    "    df_rawdataindex = pd.DataFrame(df_rawdata.index, index=df_rawdata.index)\n",
    "    df_rawdata[\"hr\"] = df_rawdataindex[\"timestamp\"].apply(lambda x: x.strftime(\"%H\"))\n",
    "    df_rawdata[\"min\"] = df_rawdataindex[\"timestamp\"].apply(lambda x: x.strftime(\"%M\"))\n",
    "    df_rawdata[\"min\"] = df_rawdata[\"min\"].apply(lambda x: \"00\" if int(x) < 30 else \"30\")\n",
    "\n",
    "    df_merged = pd.merge(df_rawdata, df_weatherdata, on=[\"date\", \"hr\", \"min\"], how=\"left\")\n",
    "    df_merged.index = df_rawdata.index\n",
    "    df_merged.loc[test4(df_rawdata) == False, \"Temperature\"] = df_merged.loc[test4(df_rawdata) == False, \"temp\"]\n",
    "    df_merged.loc[test4(df_rawdata) == False, \"RH\"] = df_merged.loc[test4(df_rawdata) == False, \"rh\"]\n",
    "    df_merged.drop([\"hr\", \"min\", \"temp\", \"rh\"], axis=1, inplace=True)\n",
    "\n",
    "    df_merged.to_csv(f\"correcteddata/{file}\", index=True, header=True)"
   ]
  }
 ],
 "metadata": {
  "interpreter": {
   "hash": "da625c08aacc218fed67a5c400603b447ac5e0e7a22a28ba81b51d825a294cc2"
  },
  "kernelspec": {
   "display_name": "Python 3.9.7 ('tf2.8')",
   "language": "python",
   "name": "python3"
  },
  "language_info": {
   "codemirror_mode": {
    "name": "ipython",
    "version": 3
   },
   "file_extension": ".py",
   "mimetype": "text/x-python",
   "name": "python",
   "nbconvert_exporter": "python",
   "pygments_lexer": "ipython3",
   "version": "3.9.7"
  },
  "orig_nbformat": 4
 },
 "nbformat": 4,
 "nbformat_minor": 2
}
