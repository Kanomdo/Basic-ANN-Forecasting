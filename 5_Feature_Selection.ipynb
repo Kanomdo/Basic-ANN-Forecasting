{
 "cells": [
  {
   "cell_type": "code",
   "execution_count": 2,
   "metadata": {},
   "outputs": [],
   "source": [
    "import os\n",
    "import pandas as pd\n",
    "import numpy as np"
   ]
  },
  {
   "cell_type": "code",
   "execution_count": 4,
   "metadata": {},
   "outputs": [],
   "source": [
    "startdate = \"2022-03-01\"\n",
    "enddate = \"2022-03-31\"\n",
    "\n",
    "files = os.listdir(\"validateddata\")\n",
    "files.sort()\n",
    "dates = [file.split(\".\")[0] for file in files]\n",
    "\n",
    "filtered_dates = []\n",
    "\n",
    "for date in dates:\n",
    "    if (date >= startdate) and (date <= enddate):\n",
    "        filtered_dates.append(date)"
   ]
  },
  {
   "cell_type": "code",
   "execution_count": 7,
   "metadata": {},
   "outputs": [],
   "source": [
    "df_concat = pd.DataFrame([])\n",
    "for date in filtered_dates:\n",
    "    df = pd.read_csv(f\"validateddata/{date}.csv\", header=0, parse_dates=[\"timestamp\"], index_col=0)\n",
    "    df_concat = pd.concat([df_concat, df])\n",
    "\n",
    "df_resampled = df_concat.resample(\"10T\", label=\"right\").mean()"
   ]
  },
  {
   "cell_type": "code",
   "execution_count": 11,
   "metadata": {},
   "outputs": [],
   "source": [
    "df_feature = df_resampled.loc[:, [\"SAlNextHr\", \"NormalizedEeg\", \"Temperature\"]]\n",
    "df_label = df_resampled.loc[:, [\"Eeg\", \"Eed\"]]\n",
    "df_label.rename(columns={\"Eeg\": \"Eeg_label\", \"Eed\": \"Eed_label\"}, inplace=True)\n",
    "df_label = df_label.iloc[6:].reset_index(drop=True)\n",
    "df_label.index = df_resampled.index[:-6]\n",
    "df_dataset = pd.concat([df_feature, df_label], axis=1)\n",
    "df_dataset.dropna(inplace=True)\n",
    "df_dataset.to_csv(f\"dataset/ann_{startdate}_{enddate}.csv\", index=True, header=True)"
   ]
  }
 ],
 "metadata": {
  "interpreter": {
   "hash": "c668e7dec1b11fbff0a04cdfe583d31c546c942880fed80aecca3de432a67602"
  },
  "kernelspec": {
   "display_name": "Python 3.9.7 ('tf2.8')",
   "language": "python",
   "name": "python3"
  },
  "language_info": {
   "codemirror_mode": {
    "name": "ipython",
    "version": 3
   },
   "file_extension": ".py",
   "mimetype": "text/x-python",
   "name": "python",
   "nbconvert_exporter": "python",
   "pygments_lexer": "ipython3",
   "version": "3.9.7"
  },
  "orig_nbformat": 4
 },
 "nbformat": 4,
 "nbformat_minor": 2
}
