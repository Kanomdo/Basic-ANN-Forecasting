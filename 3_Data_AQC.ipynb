{
 "cells": [
  {
   "cell_type": "code",
   "execution_count": null,
   "metadata": {},
   "outputs": [],
   "source": [
    "import os\n",
    "import numpy as np\n",
    "import pandas as pd\n",
    "\n",
    "from calculation import AngleCalculation, VerticalCalculation"
   ]
  },
  {
   "cell_type": "code",
   "execution_count": null,
   "metadata": {},
   "outputs": [],
   "source": [
    "#Using percentage as interval\n",
    "def interval_test(sample, controlled, CI, SAl, SAl_min=5):\n",
    "    min_CI = controlled * (1-CI)\n",
    "    max_CI = controlled * (1+CI)\n",
    "    result = (sample >= min_CI) & (sample <= max_CI) | (SAl < SAl_min)\n",
    "    return result\n",
    "\n",
    "#Using percentage as interval\n",
    "def max_test(sample, controlled, max, SAl, SAl_min=5):\n",
    "    max_CI = controlled * (1+max)\n",
    "    result = (sample <= max_CI) | (SAl < SAl_min)\n",
    "    return result\n",
    "\n",
    "#Using number as interval\n",
    "def interval_test_vertical(sample, controlled, CI):\n",
    "    min_CI = controlled - CI\n",
    "    max_CI = controlled + CI\n",
    "    result = (sample >= min_CI) & (sample <= max_CI) | (sample == 0)\n",
    "    # print(result)\n",
    "    return result\n",
    "\n",
    "def test1(df):\n",
    "    ETR = 1367\n",
    "    test1_1 = (df['Eeg']>0) & (df['Eeg']< 1.2*ETR) | (df['SAl'] < 5)\n",
    "    test1_2 = (df['Eed']>0) & (df['Eed']< 0.8*ETR) | (df['SAl'] < 5)\n",
    "    test1_3 = (df['Eeb']>=0) & (df['Eeb']< 1.0*ETR) | (df['SAl'] < 5)\n",
    "    test1_passed = test1_1 & test1_2 & test1_3\n",
    "    return test1_passed\n",
    "\n",
    "def test2(df):\n",
    "    EegCalCorrect = df['Eed'] + \\\n",
    "        (1.15 * df['Eeb'] * np.sin(df['SAl']*np.pi/180))\n",
    "    test2_1 = interval_test(df['Eeg'], EegCalCorrect,\n",
    "                            0.25, df['SAl'])\n",
    "    test2_3 = max_test(df['Eed'], df[\"Eeg\"], 0.1, df['SAl'])\n",
    "    test2_passed = test2_1 & test2_3\n",
    "    return test2_passed\n",
    "\n",
    "def test3(df):\n",
    "    test3_1 = {}\n",
    "    for d in ['N', 'E', 'S', 'W']:\n",
    "        test3_1[d] = interval_test_vertical(df[f'Ee{d}'], df[f'Eeng{d}'], 250)\n",
    "        # test3_1[d] = interval_test(df[f'Ee{d}'], df[f'Eeng{d}'],0.20, df['SAl'])\n",
    "    # test3_passed = test3_1['N'] & test3_1['E'] & test3_1['S'] & test3_1['W']\n",
    "    return test3_1['N'], test3_1['E'], test3_1['S'], test3_1['W']\n",
    "\n",
    "def test4(df):\n",
    "    temperature_test = (df['Temperature'] >= 5) & (df['Temperature'] <= 60)\n",
    "    humidity_test = (df['RH'] >= 0) & (df['RH'] <= 100)\n",
    "    test4_passed = temperature_test & humidity_test\n",
    "    return test4_passed\n",
    "    \n",
    "def diffuse_test(df):\n",
    "    diffuse_test_passsed = df['Eed'] <= 650\n",
    "    return diffuse_test_passsed\n"
   ]
  },
  {
   "cell_type": "code",
   "execution_count": null,
   "metadata": {},
   "outputs": [],
   "source": [
    "files = os.listdir(\"correcteddata\")\n",
    "files.sort()\n",
    "\n",
    "for file in files:\n",
    "    df_correcteddata = pd.read_csv(f\"correcteddata/{file}\", header=0, parse_dates=['timestamp'], index_col=0)\n",
    "\n",
    "    df_withangle = AngleCalculation(df_correcteddata)\n",
    "\n",
    "    df_test_ETR = test1(df_withangle)\n",
    "    df_test_horizon = test2(df_withangle)\n",
    "    df_vertical = VerticalCalculation(df_withangle)\n",
    "    df_test_N, df_test_E, df_test_S, df_test_W = test3(df_vertical)\n",
    "    df_test_temphumid = test4(df_withangle)\n",
    "    df_test_diffuse = diffuse_test(df_withangle)\n",
    "\n",
    "    df_with_valid = pd.DataFrame([], index=df_withangle.index)\n",
    "    df_with_valid[\"ETR\"] = df_test_ETR.values\n",
    "    df_with_valid[\"horizon\"] = df_test_horizon.values\n",
    "    df_with_valid[\"N\"] = df_test_N.values\n",
    "    df_with_valid[\"E\"] = df_test_E.values\n",
    "    df_with_valid[\"S\"] = df_test_S.values\n",
    "    df_with_valid[\"W\"] = df_test_W.values\n",
    "    df_with_valid[\"temphumid\"] = df_test_temphumid.values\n",
    "    df_with_valid[\"diffuse\"] = df_test_diffuse.values\n",
    "    df_with_valid = df_with_valid.replace(True, \"Passed\").replace(False, \"Failed\")\n",
    "    df_with_valid.to_csv(f\"aqc/{file}\", index=True, header=True)"
   ]
  }
 ],
 "metadata": {
  "interpreter": {
   "hash": "da625c08aacc218fed67a5c400603b447ac5e0e7a22a28ba81b51d825a294cc2"
  },
  "kernelspec": {
   "display_name": "Python 3.9.7 ('tf2.8')",
   "language": "python",
   "name": "python3"
  },
  "language_info": {
   "codemirror_mode": {
    "name": "ipython",
    "version": 3
   },
   "file_extension": ".py",
   "mimetype": "text/x-python",
   "name": "python",
   "nbconvert_exporter": "python",
   "pygments_lexer": "ipython3",
   "version": "3.9.7"
  },
  "orig_nbformat": 4
 },
 "nbformat": 4,
 "nbformat_minor": 2
}
