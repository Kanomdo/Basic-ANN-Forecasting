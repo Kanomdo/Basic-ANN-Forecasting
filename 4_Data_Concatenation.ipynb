{
 "cells": [
  {
   "cell_type": "code",
   "execution_count": null,
   "metadata": {},
   "outputs": [],
   "source": [
    "import os\n",
    "import numpy as np\n",
    "import pandas as pd\n",
    "from calculation import AngleCalculation, VerticalCalculation, FeatureCalculation"
   ]
  },
  {
   "cell_type": "code",
   "execution_count": null,
   "metadata": {},
   "outputs": [],
   "source": [
    "files = os.listdir(\"correcteddata\")\n",
    "files.sort()\n",
    "\n",
    "for file in files:\n",
    "    df = pd.read_csv(f\"correcteddata/{file}\", header=0, parse_dates=[\"timestamp\"], index_col=0)\n",
    "    df = AngleCalculation(df)\n",
    "    df_vertical = VerticalCalculation(df)\n",
    "    df_concat = pd.concat([df, df_vertical], axis=1)\n",
    "    df_concat = FeatureCalculation(df_concat)\n",
    "    df_aqc = pd.read_csv(f\"aqc/{file}\", header=0, parse_dates=[\"timestamp\"], index_col=0)\n",
    "    df_concat = pd.concat([df_concat, df_aqc], axis=1)\n",
    "    df_concat.to_csv(f\"concatdata/{file}\", index=True, header=True)"
   ]
  }
 ],
 "metadata": {
  "interpreter": {
   "hash": "da625c08aacc218fed67a5c400603b447ac5e0e7a22a28ba81b51d825a294cc2"
  },
  "kernelspec": {
   "display_name": "Python 3.9.7 ('tf2.8')",
   "language": "python",
   "name": "python3"
  },
  "language_info": {
   "codemirror_mode": {
    "name": "ipython",
    "version": 3
   },
   "file_extension": ".py",
   "mimetype": "text/x-python",
   "name": "python",
   "nbconvert_exporter": "python",
   "pygments_lexer": "ipython3",
   "version": "3.9.7"
  },
  "orig_nbformat": 4
 },
 "nbformat": 4,
 "nbformat_minor": 2
}
