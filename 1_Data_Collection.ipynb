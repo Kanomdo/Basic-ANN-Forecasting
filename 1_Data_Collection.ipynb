{
 "cells": [
  {
   "cell_type": "code",
   "execution_count": null,
   "metadata": {},
   "outputs": [],
   "source": [
    "import os\n",
    "import requests\n",
    "import pandas as pd\n",
    "from datetime import datetime, timedelta"
   ]
  },
  {
   "cell_type": "code",
   "execution_count": null,
   "metadata": {},
   "outputs": [],
   "source": [
    "# Data Collection From the JGSEE Best Station Database\n",
    "# Maximum query one year at a time\n",
    "start_date = '2021-01-01'\n",
    "end_date = '2021-12-31'\n",
    "\n",
    "response = requests.get(f'http://localhost:3000/api/floor7?sort=timestamp&keys=date>={start_date},date<={end_date}')\n",
    "df_database = pd.DataFrame(response.json())\n",
    "df_database['timestamp'] = df_database['timestamp'].apply(lambda x: (datetime.strptime(x, '%Y-%m-%dT%H:%M:%S.%fZ') + timedelta(hours = 7)).strftime(\"%Y-%m-%dT%H:%M:%S+07:00\"))\n",
    "df_database['date'] = df_database['date'].apply(lambda x: x.split('T')[0])\n",
    "df_database.rename(columns={'temperature': 'Temperature'}, inplace=True)\n",
    "for date in df_database['date'].unique():\n",
    "    df_database.query(f'date == \"{date}\"').to_csv(f'rawdata/{date}.csv', header=True,index=False)"
   ]
  },
  {
   "cell_type": "code",
   "execution_count": null,
   "metadata": {},
   "outputs": [],
   "source": [
    "# Data Collection From CSV File\n",
    "header = [\"timestamp\", \"date\", \"time\", \"Blank\", \"Eeg\", \"Eed\", \"Eeb\", \"EeN\", \"EeE\", \"EeS\", \"EeW\", \n",
    "            \"Evg\", \"Evd\", \"Evb\", \"EvN\", \"EvE\", \"EvS\", \"EvW\", \"lz\", \"Thermopile\", \"Thermistor\",\n",
    "            \"Windspeed\", \"Winddirection\", \"RH\", \"Temperature\"]\n",
    "\n",
    "files = [f for f in os.listdir('stationdata/') if not f.startswith('.')]\n",
    "files = sorted(files)\n",
    "\n",
    "for file in files:\n",
    "    file_name = file.split('.')[0]\n",
    "    file_name = file_name.split('-')\n",
    "    date = datetime(2000+int(file_name[2]), int(file_name[1]), int(file_name[0]))\n",
    "    date_name = date.strftime('%Y-%m-%d')\n",
    "    df_station = pd.read_csv(f'stationdata/{file}',names=header)\n",
    "    df_station['time'] = df_station['time'].apply(lambda x: f'0{x}' if len(x.split(':')[0])==1 else x)\n",
    "    df_station['date'] = date_name\n",
    "    df_station['timestamp'] = df_station['date']+'T'+df_station['time']+'+07:00'\n",
    "    df_station.to_csv(f'rawdata/{date_name}.csv', header=True,index=False)\n",
    "    print(date_name)"
   ]
  }
 ],
 "metadata": {
  "interpreter": {
   "hash": "da625c08aacc218fed67a5c400603b447ac5e0e7a22a28ba81b51d825a294cc2"
  },
  "kernelspec": {
   "display_name": "Python 3.9.7 ('tf2.8')",
   "language": "python",
   "name": "python3"
  },
  "language_info": {
   "codemirror_mode": {
    "name": "ipython",
    "version": 3
   },
   "file_extension": ".py",
   "mimetype": "text/x-python",
   "name": "python",
   "nbconvert_exporter": "python",
   "pygments_lexer": "ipython3",
   "version": "3.9.7"
  },
  "orig_nbformat": 4
 },
 "nbformat": 4,
 "nbformat_minor": 2
}
